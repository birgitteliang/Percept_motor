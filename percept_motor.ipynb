{
 "cells": [
  {
   "attachments": {},
   "cell_type": "markdown",
   "metadata": {},
   "source": [
    "### Imports"
   ]
  },
  {
   "cell_type": "code",
   "execution_count": 1,
   "metadata": {},
   "outputs": [],
   "source": [
    "# Import library\n",
    "import os\n",
    "import numpy as np\n",
    "import pandas as pd\n",
    "from matplotlib import pyplot as plt\n",
    "import mne\n",
    "from scipy.signal import hann\n",
    "\n",
    "# import own functions\n",
    "import dat_preproc\n",
    "import powerspectra\n",
    "import accelerometer\n",
    "import import_subject_data"
   ]
  },
  {
   "cell_type": "code",
   "execution_count": 11,
   "metadata": {},
   "outputs": [
    {
     "name": "stdout",
     "output_type": "stream",
     "text": [
      "Creating RawArray with float64 data, n_channels=6, n_times=245188\n",
      "    Range : 0 ... 245187 =      0.000 ...   980.748 secs\n",
      "Ready.\n"
     ]
    },
    {
     "name": "stderr",
     "output_type": "stream",
     "text": [
      "/Users/birgittethomsen/anaconda3/lib/python3.10/site-packages/pymatreader/utils.py:230: UserWarning: Complex objects (like classes) are not supported. They are imported on a best effort base but your mileage will vary.\n",
      "  warn('Complex objects (like classes) are not supported. '\n",
      "/Users/birgittethomsen/Library/CloudStorage/OneDrive-Personal/Dokumenter/PhD/Charité/code/import_subject_data.py:24: RuntimeWarning: Importing FieldTrip data without an info dict from the original file. Channel locations, orientations and types will be incorrect. The imported data cannot be used for source analysis, channel interpolation etc.\n",
      "  raw = mne.io.read_raw_fieldtrip(os.path.join(pathFiles, ltpfile), info=None)\n",
      "/Users/birgittethomsen/Library/CloudStorage/OneDrive-Personal/Dokumenter/PhD/Charité/code/import_subject_data.py:24: RuntimeWarning: The supplied FieldTrip structure does not have an elec or grad field. No channel locations will extracted and the kind of channel might be inaccurate.\n",
      "  raw = mne.io.read_raw_fieldtrip(os.path.join(pathFiles, ltpfile), info=None)\n",
      "/Users/birgittethomsen/Library/CloudStorage/OneDrive-Personal/Dokumenter/PhD/Charité/code/import_subject_data.py:24: RuntimeWarning: Cannot guess the correct type of channel LFP_L_13_STN. Making it a MISC channel.\n",
      "  raw = mne.io.read_raw_fieldtrip(os.path.join(pathFiles, ltpfile), info=None)\n",
      "/Users/birgittethomsen/Library/CloudStorage/OneDrive-Personal/Dokumenter/PhD/Charité/code/import_subject_data.py:24: RuntimeWarning: Cannot guess the correct type of channel LFP_R_13_STN. Making it a MISC channel.\n",
      "  raw = mne.io.read_raw_fieldtrip(os.path.join(pathFiles, ltpfile), info=None)\n",
      "/Users/birgittethomsen/Library/CloudStorage/OneDrive-Personal/Dokumenter/PhD/Charité/code/import_subject_data.py:24: RuntimeWarning: Cannot guess the correct type of channel LFP_L_13_STN_PEAK60Hz_THR20-30_AVG3000ms. Making it a MISC channel.\n",
      "  raw = mne.io.read_raw_fieldtrip(os.path.join(pathFiles, ltpfile), info=None)\n",
      "/Users/birgittethomsen/Library/CloudStorage/OneDrive-Personal/Dokumenter/PhD/Charité/code/import_subject_data.py:24: RuntimeWarning: Cannot guess the correct type of channel LFP_R_13_PEAK59Hz_THR20-30_AVG3000ms. Making it a MISC channel.\n",
      "  raw = mne.io.read_raw_fieldtrip(os.path.join(pathFiles, ltpfile), info=None)\n"
     ]
    }
   ],
   "source": [
    "# Import data\n",
    "# Change the path in import_subject_data\n",
    "# Fill out the percept_log with the studied hemisphere and the data filenames\n",
    "# Write the subid and run the code\n",
    "from importlib import reload\n",
    "reload(import_subject_data)\n",
    "subid = 'Sub033'\n",
    "raw, acc, epochs, hemisphere = import_subject_data.import_files(subid)"
   ]
  },
  {
   "attachments": {},
   "cell_type": "markdown",
   "metadata": {},
   "source": [
    "### Fast Fourier Transformation & Spectral Plotting"
   ]
  },
  {
   "cell_type": "code",
   "execution_count": 3,
   "metadata": {},
   "outputs": [
    {
     "name": "stdout",
     "output_type": "stream",
     "text": [
      "Using matplotlib as 2D backend.\n",
      "Setting up band-pass filter from 5 - 1e+02 Hz\n",
      "\n",
      "IIR filter parameters\n",
      "---------------------\n",
      "Butterworth bandpass zero-phase (two-pass forward and reverse) non-causal filter:\n",
      "- Filter order 20 (effective, after forward-backward)\n",
      "- Cutoffs at 5.00, 100.00 Hz: -6.02, -6.02 dB\n",
      "\n"
     ]
    },
    {
     "name": "stdout",
     "output_type": "stream",
     "text": [
      "Channels marked as bad:\n",
      "none\n",
      "Channels marked as bad:\n",
      "none\n"
     ]
    }
   ],
   "source": [
    "%matplotlib qt \n",
    "\n",
    "#Plot raw data\n",
    "raw.plot()\n",
    "\n",
    "#Plot raw data with additional options\n",
    "fig = raw.plot(n_channels = 2, highpass = 5, lowpass = 100, #5-100\n",
    "    filtorder = 5, duration = 20)"
   ]
  },
  {
   "cell_type": "code",
   "execution_count": 4,
   "metadata": {},
   "outputs": [],
   "source": [
    "#Plot time-frequency plot\n",
    "%matplotlib qt\n",
    "x = raw.get_data(reject_by_annotation = 'omit',picks=[0,1])\n",
    "raw = raw\n",
    "win_samp = 250 #window of 1 second (percept has sampling rate of 250Hz)\n",
    "noverlap = 50 #percentage of overlap i.e. 50%\n",
    "window = hann(win_samp, sym=False)\n",
    "\n",
    "#Filter data\n",
    "filt = dat_preproc.low_highpass_filter(x, 1, 100)\n",
    "\n",
    "#FFT Transformation and Spectrogram Plotting\n",
    "f, t, Sxx = dat_preproc.fft_rawviz(raw, x, win_samp, noverlap) #my function from github\n",
    "\n",
    "#Sxx is the output with dimensions stn (left/right) x freq x time"
   ]
  },
  {
   "cell_type": "code",
   "execution_count": 12,
   "metadata": {},
   "outputs": [
    {
     "name": "stderr",
     "output_type": "stream",
     "text": [
      "/Users/birgittethomsen/Library/CloudStorage/OneDrive-Personal/Dokumenter/PhD/Charité/code/accelerometer.py:75: UserWarning: color is redundantly defined by the 'color' keyword argument and the fmt string \"w\" (-> color=(1.0, 1.0, 1.0, 1)). The keyword argument will take precedence.\n",
      "  ax2.plot(raw.times, np.squeeze(y)/3, 'w', linewidth = 1.5, color='red')\n"
     ]
    }
   ],
   "source": [
    "# Plot accelerometer data\n",
    "from importlib import reload\n",
    "reload(accelerometer)\n",
    "\n",
    "# Plot accelerometer data in 3 dimensions\n",
    "accelerometer.acc_plot(subid,acc)\n",
    "\n",
    "# Plot the x acceleration and the stimulation amplitude to define the epochs\n",
    "# Fill out the epochs template with the time of the different epochs for the next steps\n",
    "accelerometer.acc_stim(subid,raw, acc, hemisphere)"
   ]
  },
  {
   "cell_type": "code",
   "execution_count": 13,
   "metadata": {},
   "outputs": [
    {
     "name": "stderr",
     "output_type": "stream",
     "text": [
      "/Users/birgittethomsen/Library/CloudStorage/OneDrive-Personal/Dokumenter/PhD/Charité/code/accelerometer.py:120: UserWarning: color is redundantly defined by the 'color' keyword argument and the fmt string \"w\" (-> color=(1.0, 1.0, 1.0, 1)). The keyword argument will take precedence.\n",
      "  ax2.plot(raw.times, np.squeeze(y) / 3, 'w', linewidth=1.5, color='red')\n"
     ]
    }
   ],
   "source": [
    "# Plot accelerometer with epochs\n",
    "from importlib import reload\n",
    "reload(accelerometer)\n",
    "accelerometer.acc_epochs(subid, raw, acc, epochs, hemisphere)"
   ]
  },
  {
   "cell_type": "code",
   "execution_count": 14,
   "metadata": {},
   "outputs": [],
   "source": [
    "# Plot time-frequency with epochs\n",
    "from importlib import reload\n",
    "reload(dat_preproc)\n",
    "%matplotlib qt\n",
    "x = raw.get_data(reject_by_annotation = 'omit',picks=[0,1]) #Remove bad data, pick the channels\n",
    "raw = raw\n",
    "win_samp = 250 #window of 1 second (percept has sampling rate of 250Hz)\n",
    "noverlap = 50 #percentage of overlap i.e. 50%\n",
    "window = hann(win_samp, sym=False)\n",
    "\n",
    "#Filter data\n",
    "filt = dat_preproc.low_highpass_filter(x, 1, 100)\n",
    "\n",
    "#fft_rawviz\n",
    "#FFT Transformation and Spectrogram Plotting\n",
    "f, t, Sxx = dat_preproc.fft_epochs(raw, x, win_samp, noverlap, epochs, hemisphere) #my function from github"
   ]
  },
  {
   "cell_type": "code",
   "execution_count": 16,
   "metadata": {},
   "outputs": [
    {
     "name": "stderr",
     "output_type": "stream",
     "text": [
      "/Users/birgittethomsen/Library/CloudStorage/OneDrive-Personal/Dokumenter/PhD/Charité/code/powerspectra.py:78: FutureWarning: iteritems is deprecated and will be removed in a future version. Use .items instead.\n",
      "  for column_name, column_values in epochs.iteritems():\n"
     ]
    }
   ],
   "source": [
    "# Plot time-frequency plots for all epochs and\n",
    "# plot powerspectra of the different stimulations amplitudes and rest/tapping\n",
    "from importlib import reload\n",
    "reload(powerspectra)\n",
    "import powerspectra\n",
    "powerspectra.plot_power(subid, Sxx, hemisphere, epochs)"
   ]
  }
 ],
 "metadata": {
  "kernelspec": {
   "display_name": "base",
   "language": "python",
   "name": "python3"
  },
  "language_info": {
   "codemirror_mode": {
    "name": "ipython",
    "version": 3
   },
   "file_extension": ".py",
   "mimetype": "text/x-python",
   "name": "python",
   "nbconvert_exporter": "python",
   "pygments_lexer": "ipython3",
   "version": "3.10.9"
  },
  "orig_nbformat": 4
 },
 "nbformat": 4,
 "nbformat_minor": 2
}
